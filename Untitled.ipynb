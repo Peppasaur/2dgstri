{
 "cells": [
  {
   "cell_type": "code",
   "execution_count": 1,
   "id": "cd240da2-2e50-4c9e-927c-b35b7d4040ea",
   "metadata": {},
   "outputs": [
    {
     "name": "stderr",
     "output_type": "stream",
     "text": [
      "UsageError: Line magic function `%tensorboard` not found.\n"
     ]
    }
   ],
   "source": [
    "%tensorboard --logdir=output/date/scan63_1 "
   ]
  },
  {
   "cell_type": "code",
   "execution_count": null,
   "id": "7a9a8b74-4322-4257-b6e7-ab213e0f53da",
   "metadata": {},
   "outputs": [],
   "source": []
  }
 ],
 "metadata": {
  "kernelspec": {
   "display_name": "Python 3 (ipykernel)",
   "language": "python",
   "name": "python3"
  },
  "language_info": {
   "codemirror_mode": {
    "name": "ipython",
    "version": 3
   },
   "file_extension": ".py",
   "mimetype": "text/x-python",
   "name": "python",
   "nbconvert_exporter": "python",
   "pygments_lexer": "ipython3",
   "version": "3.10.12"
  }
 },
 "nbformat": 4,
 "nbformat_minor": 5
}
